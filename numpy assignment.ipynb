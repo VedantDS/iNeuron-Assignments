{
 "cells": [
  {
   "cell_type": "code",
   "execution_count": 5,
   "id": "spread-leonard",
   "metadata": {},
   "outputs": [],
   "source": [
    "import numpy as np"
   ]
  },
  {
   "cell_type": "markdown",
   "id": "pursuant-ready",
   "metadata": {},
   "source": [
    "### 1. Write a function so that the columns of the output matrix are powers of the input vector. The order of the powers is determined by the increasing boolean argument. Specifically, when increasing is False, the i-th output column is the input vector raised element-wise to the power of N - i - 1. HINT: Such a matrix with a geometric progression in each row is named for Alexandre- Theophile Vandermonde."
   ]
  },
  {
   "cell_type": "code",
   "execution_count": 65,
   "id": "objective-webmaster",
   "metadata": {},
   "outputs": [],
   "source": [
    "# defining function 'vander_matrix'\n",
    "def vander_matrix(x, increasing = bool):\n",
    "    x = np.array(x)\n",
    "    l = len(x)\n",
    "    if increasing is False:\n",
    "        return np.array([x**(l-i-1) for i in range(l)]).transpose()\n",
    "    else:\n",
    "        return np.flip(np.array([x**(l-i-1) for i in range(l)]).transpose())[::-1]"
   ]
  },
  {
   "cell_type": "code",
   "execution_count": 70,
   "id": "hawaiian-lawsuit",
   "metadata": {},
   "outputs": [
    {
     "data": {
      "text/plain": [
       "array([[  1,   1,   1,   1],\n",
       "       [  8,   4,   2,   1],\n",
       "       [ 27,   9,   3,   1],\n",
       "       [125,  25,   5,   1]], dtype=int32)"
      ]
     },
     "execution_count": 70,
     "metadata": {},
     "output_type": "execute_result"
    }
   ],
   "source": [
    "vander_matrix([1,2,3,5], increasing=False)"
   ]
  },
  {
   "cell_type": "markdown",
   "id": "preliminary-witness",
   "metadata": {},
   "source": [
    "### 2.  Write a function to find moving average in an array over a window: Test it over [3, 5, 7, 2, 8, 10, 11, 65, 72, 81, 99, 100, 150] and window of 3."
   ]
  },
  {
   "cell_type": "code",
   "execution_count": 95,
   "id": "republican-school",
   "metadata": {},
   "outputs": [],
   "source": [
    "# defining function 'moving_avg' to calculate moving average of a given sequence 'seq' for window 'k'\n",
    "def moving_avg(seq, k):\n",
    "    seq = np.array(seq)\n",
    "    n = len(seq)\n",
    "    N = n-k+1\n",
    "    moving_avg = []\n",
    "    for i in range(N):\n",
    "        avg = 0\n",
    "        sum = 0\n",
    "        for j in seq[i:k+i]:\n",
    "            sum = sum+j\n",
    "        avg = sum/k\n",
    "        moving_avg.append(avg)\n",
    "    return moving_avg   "
   ]
  },
  {
   "cell_type": "code",
   "execution_count": 96,
   "id": "medical-armenia",
   "metadata": {},
   "outputs": [
    {
     "data": {
      "text/plain": [
       "[5.0,\n",
       " 4.666666666666667,\n",
       " 5.666666666666667,\n",
       " 6.666666666666667,\n",
       " 9.666666666666666,\n",
       " 28.666666666666668,\n",
       " 49.333333333333336,\n",
       " 72.66666666666667,\n",
       " 84.0,\n",
       " 93.33333333333333,\n",
       " 116.33333333333333]"
      ]
     },
     "execution_count": 96,
     "metadata": {},
     "output_type": "execute_result"
    }
   ],
   "source": [
    "moving_avg([3, 5, 7, 2, 8, 10, 11, 65, 72, 81, 99, 100, 150], k= 3)"
   ]
  }
 ],
 "metadata": {
  "kernelspec": {
   "display_name": "Python 3",
   "language": "python",
   "name": "python3"
  },
  "language_info": {
   "codemirror_mode": {
    "name": "ipython",
    "version": 3
   },
   "file_extension": ".py",
   "mimetype": "text/x-python",
   "name": "python",
   "nbconvert_exporter": "python",
   "pygments_lexer": "ipython3",
   "version": "3.7.9"
  }
 },
 "nbformat": 4,
 "nbformat_minor": 5
}
